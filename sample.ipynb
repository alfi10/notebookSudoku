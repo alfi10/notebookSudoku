{
 "cells": [
  {
   "cell_type": "code",
   "execution_count": 3,
   "id": "initial_id",
   "metadata": {
    "collapsed": true,
    "ExecuteTime": {
     "end_time": "2024-03-23T12:36:14.058400Z",
     "start_time": "2024-03-23T12:36:13.684795Z"
    }
   },
   "outputs": [
    {
     "ename": "ModuleNotFoundError",
     "evalue": "No module named 'sudoku'",
     "output_type": "error",
     "traceback": [
      "\u001B[1;31m---------------------------------------------------------------------------\u001B[0m",
      "\u001B[1;31mModuleNotFoundError\u001B[0m                       Traceback (most recent call last)",
      "Cell \u001B[1;32mIn[3], line 5\u001B[0m\n\u001B[0;32m      3\u001B[0m \u001B[38;5;28;01mimport\u001B[39;00m \u001B[38;5;21;01msys\u001B[39;00m\n\u001B[0;32m      4\u001B[0m \u001B[38;5;28;01mfrom\u001B[39;00m \u001B[38;5;21;01mtyping\u001B[39;00m \u001B[38;5;28;01mimport\u001B[39;00m Iterable, List, Optional, Tuple, Union, cast\n\u001B[1;32m----> 5\u001B[0m \u001B[38;5;28;01mfrom\u001B[39;00m \u001B[38;5;21;01msudoku\u001B[39;00m \u001B[38;5;28;01mimport\u001B[39;00m Sudoku\n",
      "\u001B[1;31mModuleNotFoundError\u001B[0m: No module named 'sudoku'"
     ]
    }
   ],
   "source": [
    "from pickletools import float8\n",
    "from random import shuffle, seed as random_seed, randrange\n",
    "import sys\n",
    "from typing import Iterable, List, Optional, Tuple, Union, cast\n",
    "from sudoku import Sudoku"
   ]
  },
  {
   "cell_type": "code",
   "outputs": [],
   "source": [
    "class Sudoku:\n",
    "    _empty_cell_value = None\n",
    "\n",
    "    def __init__(self, width: int = 3, height: Optional[int] = None,\n",
    "                 board: Optional[Iterable[Iterable[Union[int, None]]]] = None, difficulty: Optional[float] = None,\n",
    "                 seed: int = randrange(sys.maxsize)):\n",
    "        self.width = width\n",
    "        self.height = height if height else width\n",
    "        self.size = self.width * self.height\n",
    "        self.__difficulty: float\n",
    "\n",
    "        assert self.width > 0, 'Width cannot be less than 1'\n",
    "        assert self.height > 0, 'Height cannot be less than 1'\n",
    "        assert self.size > 1, 'Board size cannot be 1 x 1'\n",
    "\n",
    "        if difficulty is not None:\n",
    "            self.__difficulty = difficulty\n",
    "\n",
    "        if board:\n",
    "            blank_count = 0\n",
    "            self.board: List[List[Union[int, None]]] = [\n",
    "                [cell for cell in row] for row in board]\n",
    "            for row in self.board:\n",
    "                for i in range(len(row)):\n",
    "                    if not row[i] in range(1, self.size + 1):\n",
    "                        row[i] = Sudoku._empty_cell_value\n",
    "                        blank_count += 1\n",
    "            if difficulty == None:\n",
    "                if self.validate():\n",
    "                    self.__difficulty = blank_count / \\\n",
    "                                        (self.size * self.size)\n",
    "                else:\n",
    "                    self.__difficulty = -2\n",
    "        else:\n",
    "            positions = list(range(self.size))\n",
    "            random_seed(seed)\n",
    "            shuffle(positions)\n",
    "            self.board = [[(i + 1) if i == positions[j]\n",
    "                           else Sudoku._empty_cell_value for i in range(self.size)] for j in range(self.size)]\n",
    "\n",
    "\n",
    "a = Sudoku()"
   ],
   "metadata": {
    "collapsed": false,
    "ExecuteTime": {
     "end_time": "2024-03-23T12:35:18.808319Z",
     "start_time": "2024-03-23T12:35:18.793320Z"
    }
   },
   "id": "476b760aba6ef941",
   "execution_count": 2
  },
  {
   "cell_type": "code",
   "outputs": [],
   "source": [],
   "metadata": {
    "collapsed": false
   },
   "id": "b1bafc029392298d"
  }
 ],
 "metadata": {
  "kernelspec": {
   "display_name": "Python 3",
   "language": "python",
   "name": "python3"
  },
  "language_info": {
   "codemirror_mode": {
    "name": "ipython",
    "version": 2
   },
   "file_extension": ".py",
   "mimetype": "text/x-python",
   "name": "python",
   "nbconvert_exporter": "python",
   "pygments_lexer": "ipython2",
   "version": "2.7.6"
  }
 },
 "nbformat": 4,
 "nbformat_minor": 5
}
