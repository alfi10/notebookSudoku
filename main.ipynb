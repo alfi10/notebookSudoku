{
 "cells": [
  {
   "cell_type": "code",
   "outputs": [],
   "source": [
    "from sudoku import Sudoku"
   ],
   "metadata": {
    "collapsed": false,
    "ExecuteTime": {
     "end_time": "2024-03-27T19:30:09.026380Z",
     "start_time": "2024-03-27T19:30:08.952872Z"
    }
   },
   "id": "96a4faa7fa53ddba",
   "execution_count": 1
  },
  {
   "cell_type": "code",
   "outputs": [],
   "source": [
    "a = Sudoku(debug=True)"
   ],
   "metadata": {
    "collapsed": false,
    "ExecuteTime": {
     "end_time": "2024-03-27T19:30:09.042113Z",
     "start_time": "2024-03-27T19:30:09.027380Z"
    }
   },
   "id": "c52a987613e4c2d5",
   "execution_count": 2
  },
  {
   "cell_type": "code",
   "outputs": [
    {
     "name": "stdout",
     "output_type": "stream",
     "text": [
      "-------------------------------\n",
      "| 0  0  0 | 4  0  0 | 7  0  0 |\n",
      "| 8  0  7 | 0  0  6 | 0  0  0 |\n",
      "| 0  6  2 | 0  0  0 | 0  1  8 |\n",
      "-------------------------------\n",
      "| 0  0  0 | 3  0  1 | 8  9  0 |\n",
      "| 3  0  0 | 6  0  0 | 0  4  7 |\n",
      "| 0  2  0 | 0  0  8 | 0  0  0 |\n",
      "-------------------------------\n",
      "| 9  0  8 | 0  6  3 | 1  5  4 |\n",
      "| 2  4  3 | 0  7  5 | 6  8  0 |\n",
      "| 0  1  0 | 0  9  4 | 0  0  0 |\n",
      "-------------------------------\n"
     ]
    }
   ],
   "source": [
    "a.fill_cell(0, 0, 8)\n",
    "print(a)"
   ],
   "metadata": {
    "collapsed": false,
    "ExecuteTime": {
     "end_time": "2024-03-27T19:30:29.054668Z",
     "start_time": "2024-03-27T19:30:29.049448Z"
    }
   },
   "id": "f7c7c8f3853eb8bc",
   "execution_count": 6
  }
 ],
 "metadata": {
  "kernelspec": {
   "display_name": "Python 3",
   "language": "python",
   "name": "python3"
  },
  "language_info": {
   "codemirror_mode": {
    "name": "ipython",
    "version": 2
   },
   "file_extension": ".py",
   "mimetype": "text/x-python",
   "name": "python",
   "nbconvert_exporter": "python",
   "pygments_lexer": "ipython2",
   "version": "2.7.6"
  }
 },
 "nbformat": 4,
 "nbformat_minor": 5
}
