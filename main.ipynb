{
 "cells": [
  {
   "metadata": {},
   "cell_type": "markdown",
   "source": [
    "### Sudoku Mínimo\n",
    "np.array([\n",
    "        [0, 0, 0, 8, 0, 1, 0, 0, 0],\n",
    "        [0, 0, 0, 0, 0, 0, 4, 3, 0],\n",
    "        [5, 0, 0, 0, 0, 0, 0, 0, 0],\n",
    "        [0, 0, 0, 0, 7, 0, 8, 0, 0],\n",
    "        [0, 0, 0, 0, 0, 0, 1, 0, 0],\n",
    "        [0, 2, 0, 0, 3, 0, 0, 0, 0],\n",
    "        [6, 0, 0, 0, 0, 0, 0, 7, 5],\n",
    "        [0, 0, 3, 4, 0, 0, 0, 0, 0],\n",
    "        [0, 0, 0, 2, 0, 0, 6, 0, 0]\n",
    "    ], dtype=int)\n",
    "### Sudoku Experto\n",
    "np.array([\n",
    "        [0, 0, 0, 0, 5, 0, 0, 4, 9],\n",
    "        [4, 0, 0, 0, 0, 6, 0, 0, 1],\n",
    "        [0, 0, 1, 0, 0, 3, 0, 5, 0],\n",
    "        [0, 0, 0, 0, 0, 8, 4, 0, 0],\n",
    "        [0, 0, 7, 0, 4, 0, 0, 0, 0],\n",
    "        [0, 2, 0, 1, 9, 0, 0, 8, 0],\n",
    "        [0, 0, 9, 0, 0, 0, 0, 3, 0],\n",
    "        [6, 0, 0, 0, 3, 4, 0, 0, 0],\n",
    "        [3, 0, 0, 0, 0, 0, 7, 0, 0]\n",
    "    ], dtype=int)\n",
    "### Sudoku Intermedio\n",
    "np.array([\n",
    "        [9, 2, 8, 0, 7, 0, 5, 0, 0],\n",
    "        [0, 0, 0, 0, 0, 2, 3, 0, 0],\n",
    "        [0, 6, 0, 0, 0, 0, 0, 2, 9],\n",
    "        [0, 0, 7, 0, 9, 6, 0, 3, 0],\n",
    "        [0, 0, 0, 0, 1, 8, 0, 4, 0],\n",
    "        [2, 0, 0, 0, 0, 3, 0, 0, 6],\n",
    "        [6, 7, 0, 0, 0, 1, 0, 0, 0],\n",
    "        [0, 4, 0, 0, 2, 7, 0, 0, 0],\n",
    "        [8, 0, 1, 0, 4, 0, 2, 0, 0]\n",
    "    ], dtype=int)\n",
    "### Sudoku Facil\n",
    "np.array([\n",
    "        [0, 0, 0, 4, 0, 0, 7, 0, 0],\n",
    "        [8, 0, 7, 0, 0, 6, 0, 0, 0],\n",
    "        [0, 6, 2, 0, 0, 0, 0, 1, 8],\n",
    "        [0, 0, 0, 3, 0, 1, 8, 9, 0],\n",
    "        [3, 0, 0, 6, 0, 0, 0, 4, 7],\n",
    "        [0, 2, 0, 0, 0, 8, 0, 0, 0],\n",
    "        [9, 0, 8, 0, 6, 3, 1, 5, 4],\n",
    "        [2, 4, 3, 0, 7, 5, 6, 8, 0],\n",
    "        [0, 1, 0, 0, 9, 4, 0, 0, 0]\n",
    "    ], dtype=int)\n"
   ],
   "id": "deb98c2cb3aef1da"
  },
  {
   "metadata": {},
   "cell_type": "markdown",
   "source": "### Importamos las librerías necesarias",
   "id": "d145a20ad7d97a32"
  },
  {
   "metadata": {
    "ExecuteTime": {
     "end_time": "2024-05-09T18:36:25.582241Z",
     "start_time": "2024-05-09T18:36:25.573241Z"
    }
   },
   "cell_type": "code",
   "source": [
    "import numpy as np\n",
    "from SudokuLibrary.sudoku import Sudoku\n",
    "from SudokuLibrary.sudokuSolver import SudokuSolver\n",
    "from SudokuLibrary.sudokuSolver import show_sudoku\n",
    "from SudokuLibrary.sudokuMinmax import imprimir_sudoku_con_resaltado\n",
    "from SudokuLibrary.sudokuMinmax import minimax\n",
    "from SudokuLibrary.sudokuMinmax import Estado"
   ],
   "id": "6a0d54d1b46f3a6c",
   "outputs": [],
   "execution_count": 11
  },
  {
   "metadata": {},
   "cell_type": "markdown",
   "source": [
    "### Carga del sudoku a resolver\n",
    "Preparamos para realizar las búsquedas"
   ],
   "id": "1ac73a898167c0dc"
  },
  {
   "metadata": {
    "ExecuteTime": {
     "end_time": "2024-05-09T18:36:03.567616Z",
     "start_time": "2024-05-09T18:36:03.552617Z"
    }
   },
   "cell_type": "code",
   "source": [
    "\n",
    "sudoku = Sudoku(np.array([\n",
    "        [9, 2, 8, 0, 7, 0, 5, 0, 0],\n",
    "        [0, 0, 0, 0, 0, 2, 3, 0, 0],\n",
    "        [0, 6, 0, 0, 0, 0, 0, 2, 9],\n",
    "        [0, 0, 7, 0, 9, 6, 0, 3, 0],\n",
    "        [0, 0, 0, 0, 1, 8, 0, 4, 0],\n",
    "        [2, 0, 0, 0, 0, 3, 0, 0, 6],\n",
    "        [6, 7, 0, 0, 0, 1, 0, 0, 0],\n",
    "        [0, 4, 0, 0, 2, 7, 0, 0, 0],\n",
    "        [8, 0, 1, 0, 4, 0, 2, 0, 0]\n",
    "    ], dtype=int),\n",
    "        debug=True)\n",
    "solver = SudokuSolver(sudoku)"
   ],
   "id": "c52a987613e4c2d5",
   "outputs": [],
   "execution_count": 2
  },
  {
   "cell_type": "code",
   "source": "show_sudoku(solver.sudoku)",
   "metadata": {
    "collapsed": false,
    "ExecuteTime": {
     "end_time": "2024-05-09T18:36:03.583617Z",
     "start_time": "2024-05-09T18:36:03.568617Z"
    }
   },
   "id": "f7c7c8f3853eb8bc",
   "outputs": [
    {
     "name": "stdout",
     "output_type": "stream",
     "text": [
      "Estado Inicial\n",
      "-------------------------------\n",
      "| 9  2  8 | 0  7  4 | 5  0  0 |\n",
      "| 0  0  0 | 0  0  2 | 3  0  0 |\n",
      "| 0  6  0 | 0  0  0 | 0  2  9 |\n",
      "-------------------------------\n",
      "| 0  0  7 | 0  9  6 | 0  3  0 |\n",
      "| 0  0  0 | 0  1  8 | 0  4  0 |\n",
      "| 2  0  0 | 0  5  3 | 0  0  6 |\n",
      "-------------------------------\n",
      "| 6  7  0 | 0  0  1 | 0  0  0 |\n",
      "| 0  4  0 | 0  2  7 | 0  0  0 |\n",
      "| 8  0  1 | 0  4  0 | 2  0  0 |\n",
      "-------------------------------\n",
      "\n"
     ]
    }
   ],
   "execution_count": 3
  },
  {
   "cell_type": "code",
   "source": "show_sudoku(solver.solve_profundidad(True))",
   "metadata": {
    "collapsed": false,
    "ExecuteTime": {
     "end_time": "2024-05-09T18:36:03.709616Z",
     "start_time": "2024-05-09T18:36:03.584616Z"
    }
   },
   "id": "de4f2ed68c334c60",
   "outputs": [
    {
     "name": "stdout",
     "output_type": "stream",
     "text": [
      "Ciclos: 116\n",
      "Camino de solución: [(0, 7, 6), (0, 8, 1), (0, 3, 3), (1, 1, 1), (1, 2, 5), (1, 0, 4), (1, 4, 6), (1, 3, 9), (1, 7, 7), (2, 0, 7), (2, 4, 8), (2, 5, 5), (2, 3, 1), (3, 0, 1), (3, 1, 5), (3, 3, 4), (3, 8, 2), (4, 1, 9), (4, 2, 6), (4, 8, 5), (4, 3, 2), (5, 3, 7), (6, 3, 5), (6, 7, 8), (5, 7, 9), (5, 6, 1), (6, 6, 9), (6, 2, 2), (6, 8, 4), (7, 0, 5), (7, 2, 9), (7, 3, 8), (8, 8, 7)]\n",
      "-------------------------------\n",
      "| 9  2  8 | 3  7  4 | 5  6  1 |\n",
      "| 4  1  5 | 9  6  2 | 3  7  8 |\n",
      "| 7  6  3 | 1  8  5 | 4  2  9 |\n",
      "-------------------------------\n",
      "| 1  5  7 | 4  9  6 | 8  3  2 |\n",
      "| 3  9  6 | 2  1  8 | 7  4  5 |\n",
      "| 2  8  4 | 7  5  3 | 1  9  6 |\n",
      "-------------------------------\n",
      "| 6  7  2 | 5  3  1 | 9  8  4 |\n",
      "| 5  4  9 | 8  2  7 | 6  1  3 |\n",
      "| 8  3  1 | 6  4  9 | 2  5  7 |\n",
      "-------------------------------\n",
      "\n"
     ]
    }
   ],
   "execution_count": 4
  },
  {
   "cell_type": "code",
   "source": "show_sudoku(solver.solve_anchura(True))",
   "metadata": {
    "collapsed": false,
    "ExecuteTime": {
     "end_time": "2024-05-09T18:36:03.832616Z",
     "start_time": "2024-05-09T18:36:03.710616Z"
    }
   },
   "id": "ea5c81e676cdc04f",
   "outputs": [
    {
     "name": "stdout",
     "output_type": "stream",
     "text": [
      "Ciclos: 118\n",
      "Camino de solución: [(0, 7, 6), (0, 8, 1), (0, 3, 3), (1, 1, 1), (1, 2, 5), (1, 0, 4), (1, 4, 6), (1, 3, 9), (1, 7, 7), (2, 0, 7), (2, 4, 8), (2, 5, 5), (2, 3, 1), (3, 0, 1), (3, 1, 5), (3, 3, 4), (3, 8, 2), (4, 1, 9), (4, 2, 6), (4, 8, 5), (4, 3, 2), (5, 3, 7), (6, 3, 5), (6, 7, 8), (5, 7, 9), (5, 6, 1), (6, 6, 9), (6, 2, 2), (6, 8, 4), (7, 0, 5), (7, 2, 9), (7, 3, 8), (8, 8, 7)]\n",
      "-------------------------------\n",
      "| 9  2  8 | 3  7  4 | 5  6  1 |\n",
      "| 4  1  5 | 9  6  2 | 3  7  8 |\n",
      "| 7  6  3 | 1  8  5 | 4  2  9 |\n",
      "-------------------------------\n",
      "| 1  5  7 | 4  9  6 | 8  3  2 |\n",
      "| 3  9  6 | 2  1  8 | 7  4  5 |\n",
      "| 2  8  4 | 7  5  3 | 1  9  6 |\n",
      "-------------------------------\n",
      "| 6  7  2 | 5  3  1 | 9  8  4 |\n",
      "| 5  4  9 | 8  2  7 | 6  1  3 |\n",
      "| 8  3  1 | 6  4  9 | 2  5  7 |\n",
      "-------------------------------\n",
      "\n"
     ]
    }
   ],
   "execution_count": 5
  },
  {
   "cell_type": "code",
   "source": "show_sudoku(solver.solve_coste_uniforme(True))",
   "metadata": {
    "collapsed": false,
    "ExecuteTime": {
     "end_time": "2024-05-09T18:36:03.956616Z",
     "start_time": "2024-05-09T18:36:03.833618Z"
    }
   },
   "id": "c5f0f4b7e822e438",
   "outputs": [
    {
     "name": "stdout",
     "output_type": "stream",
     "text": [
      "Ciclos: 118\n",
      "Camino de solución: [(0, 7, 6), (0, 8, 1), (0, 3, 3), (1, 1, 1), (1, 2, 5), (1, 0, 4), (1, 4, 6), (1, 3, 9), (1, 7, 7), (2, 0, 7), (2, 4, 8), (2, 5, 5), (2, 3, 1), (3, 0, 1), (3, 1, 5), (3, 3, 4), (3, 8, 2), (4, 1, 9), (4, 2, 6), (4, 8, 5), (4, 3, 2), (5, 3, 7), (6, 3, 5), (6, 7, 8), (5, 7, 9), (5, 6, 1), (6, 6, 9), (6, 2, 2), (6, 8, 4), (7, 0, 5), (7, 2, 9), (7, 3, 8), (8, 8, 7)]\n",
      "-------------------------------\n",
      "| 9  2  8 | 3  7  4 | 5  6  1 |\n",
      "| 4  1  5 | 9  6  2 | 3  7  8 |\n",
      "| 7  6  3 | 1  8  5 | 4  2  9 |\n",
      "-------------------------------\n",
      "| 1  5  7 | 4  9  6 | 8  3  2 |\n",
      "| 3  9  6 | 2  1  8 | 7  4  5 |\n",
      "| 2  8  4 | 7  5  3 | 1  9  6 |\n",
      "-------------------------------\n",
      "| 6  7  2 | 5  3  1 | 9  8  4 |\n",
      "| 5  4  9 | 8  2  7 | 6  1  3 |\n",
      "| 8  3  1 | 6  4  9 | 2  5  7 |\n",
      "-------------------------------\n",
      "\n"
     ]
    }
   ],
   "execution_count": 6
  },
  {
   "cell_type": "code",
   "source": "show_sudoku(solver.solve_avara(True))",
   "metadata": {
    "collapsed": false,
    "ExecuteTime": {
     "end_time": "2024-05-09T18:36:04.050575Z",
     "start_time": "2024-05-09T18:36:03.957616Z"
    }
   },
   "id": "27909a429ac72cd5",
   "outputs": [
    {
     "name": "stdout",
     "output_type": "stream",
     "text": [
      "Ciclos: 76\n",
      "Camino de solución: [(0, 7, 6), (0, 8, 1), (0, 3, 3), (1, 1, 1), (1, 2, 5), (1, 0, 4), (1, 4, 6), (1, 3, 9), (1, 7, 7), (2, 0, 7), (2, 4, 8), (2, 5, 5), (2, 3, 1), (3, 0, 1), (3, 1, 5), (3, 3, 4), (3, 8, 2), (4, 1, 9), (4, 2, 6), (4, 8, 5), (4, 3, 2), (5, 3, 7), (6, 3, 5), (6, 7, 8), (5, 7, 9), (5, 6, 1), (6, 6, 9), (6, 2, 2), (6, 8, 4), (7, 0, 5), (7, 2, 9), (7, 3, 8), (8, 8, 7)]\n",
      "-------------------------------\n",
      "| 9  2  8 | 3  7  4 | 5  6  1 |\n",
      "| 4  1  5 | 9  6  2 | 3  7  8 |\n",
      "| 7  6  3 | 1  8  5 | 4  2  9 |\n",
      "-------------------------------\n",
      "| 1  5  7 | 4  9  6 | 8  3  2 |\n",
      "| 3  9  6 | 2  1  8 | 7  4  5 |\n",
      "| 2  8  4 | 7  5  3 | 1  9  6 |\n",
      "-------------------------------\n",
      "| 6  7  2 | 5  3  1 | 9  8  4 |\n",
      "| 5  4  9 | 8  2  7 | 6  1  3 |\n",
      "| 8  3  1 | 6  4  9 | 2  5  7 |\n",
      "-------------------------------\n",
      "\n"
     ]
    }
   ],
   "execution_count": 7
  },
  {
   "cell_type": "code",
   "source": "show_sudoku(solver.solve_a_estrella(True))",
   "metadata": {
    "collapsed": false,
    "ExecuteTime": {
     "end_time": "2024-05-09T18:36:04.144705Z",
     "start_time": "2024-05-09T18:36:04.051576Z"
    }
   },
   "id": "fe5c9cd597da29a",
   "outputs": [
    {
     "name": "stdout",
     "output_type": "stream",
     "text": [
      "Ciclos: 76\n",
      "Camino de solución: [(0, 7, 6), (0, 8, 1), (0, 3, 3), (1, 1, 1), (1, 2, 5), (1, 0, 4), (1, 4, 6), (1, 3, 9), (1, 7, 7), (2, 0, 7), (2, 4, 8), (2, 5, 5), (2, 3, 1), (3, 0, 1), (3, 1, 5), (3, 3, 4), (3, 8, 2), (4, 1, 9), (4, 2, 6), (4, 8, 5), (4, 3, 2), (5, 3, 7), (6, 3, 5), (6, 7, 8), (5, 7, 9), (5, 6, 1), (6, 6, 9), (6, 2, 2), (6, 8, 4), (7, 0, 5), (7, 2, 9), (7, 3, 8), (8, 8, 7)]\n",
      "-------------------------------\n",
      "| 9  2  8 | 3  7  4 | 5  6  1 |\n",
      "| 4  1  5 | 9  6  2 | 3  7  8 |\n",
      "| 7  6  3 | 1  8  5 | 4  2  9 |\n",
      "-------------------------------\n",
      "| 1  5  7 | 4  9  6 | 8  3  2 |\n",
      "| 3  9  6 | 2  1  8 | 7  4  5 |\n",
      "| 2  8  4 | 7  5  3 | 1  9  6 |\n",
      "-------------------------------\n",
      "| 6  7  2 | 5  3  1 | 9  8  4 |\n",
      "| 5  4  9 | 8  2  7 | 6  1  3 |\n",
      "| 8  3  1 | 6  4  9 | 2  5  7 |\n",
      "-------------------------------\n",
      "\n"
     ]
    }
   ],
   "execution_count": 8
  },
  {
   "metadata": {
    "ExecuteTime": {
     "end_time": "2024-05-09T18:36:04.255583Z",
     "start_time": "2024-05-09T18:36:04.145706Z"
    }
   },
   "cell_type": "code",
   "source": "show_sudoku(solver.solve_restricciones(True))",
   "id": "f06e154602d58d7e",
   "outputs": [
    {
     "name": "stdout",
     "output_type": "stream",
     "text": [
      "Ciclos: 13\n",
      "[(0, 5, 4), (5, 4, 5), (0, 7, 6), (0, 8, 1), (2, 5, 5), (8, 5, 9), (0, 3, 3), (1, 4, 6), (2, 3, 1), (2, 4, 8), (6, 4, 3), (1, 3, 9), (7, 2, 9), (2, 2, 3), (5, 2, 4), (6, 2, 2), (1, 2, 5), (3, 0, 1), (4, 3, 2), (5, 3, 7), (1, 1, 1), (3, 1, 5), (3, 3, 4), (3, 6, 8), (4, 2, 6), (2, 6, 4), (3, 8, 2), (4, 0, 3), (4, 1, 9), (4, 6, 7), (4, 8, 5), (5, 1, 8), (7, 0, 5), (8, 1, 3), (8, 7, 5), (8, 8, 7), (1, 8, 8), (2, 0, 7), (5, 6, 1), (6, 6, 9), (6, 7, 8), (8, 3, 6), (1, 0, 4), (1, 7, 7), (5, 7, 9), (6, 3, 5), (6, 8, 4), (7, 3, 8), (7, 6, 6), (7, 7, 1), (7, 8, 3)]\n",
      "-------------------------------\n",
      "| 9  2  8 | 3  7  4 | 5  6  1 |\n",
      "| 4  1  5 | 9  6  2 | 3  7  8 |\n",
      "| 7  6  3 | 1  8  5 | 4  2  9 |\n",
      "-------------------------------\n",
      "| 1  5  7 | 4  9  6 | 8  3  2 |\n",
      "| 3  9  6 | 2  1  8 | 7  4  5 |\n",
      "| 2  8  4 | 7  5  3 | 1  9  6 |\n",
      "-------------------------------\n",
      "| 6  7  2 | 5  3  1 | 9  8  4 |\n",
      "| 5  4  9 | 8  2  7 | 6  1  3 |\n",
      "| 8  3  1 | 6  4  9 | 2  5  7 |\n",
      "-------------------------------\n",
      "\n"
     ]
    }
   ],
   "execution_count": 9
  },
  {
   "metadata": {},
   "cell_type": "markdown",
   "source": [
    "### MinMax\n",
    "Primero planteamos el estado inicial"
   ],
   "id": "776d448d569a6768"
  },
  {
   "metadata": {
    "ExecuteTime": {
     "end_time": "2024-05-09T18:36:31.407864Z",
     "start_time": "2024-05-09T18:36:31.389800Z"
    }
   },
   "cell_type": "code",
   "source": [
    "# Creamos el tablero del sudoku\n",
    "SUDOKU = [\n",
    "    [0,0,0,4,0,0,7,0,0],\n",
    "    [8,0,7,0,0,6,0,0,0],\n",
    "    [0,6,2,0,0,0,0,1,8],\n",
    "    [0,0,0,3,0,1,8,9,0],\n",
    "    [3,0,0,6,0,0,0,4,7],\n",
    "    [0,2,0,0,0,8,0,0,0],\n",
    "    [9,0,8,0,6,3,1,5,4],\n",
    "    [2,4,3,0,7,5,6,8,0],\n",
    "    [0,1,0,0,9,4,0,0,0]\n",
    "]\n",
    "\n",
    "# Indicamos la fila y columna por la que empezaremos a rellenar el tablero\n",
    "x = 0\n",
    "y = 0\n",
    "\n",
    "# Creamos el nodo del estado inicial\n",
    "estado_inicial = Estado(SUDOKU, x, y, 'Estado Inicial', 0)\n",
    "\n",
    "estado_inicial.asignar_jugador(1)\n",
    "\n",
    "# Asignamos un coste a ese nodo\n",
    "estado_inicial.agregar_coste(0)"
   ],
   "id": "7c58c7f900529aa4",
   "outputs": [],
   "execution_count": 12
  },
  {
   "metadata": {},
   "cell_type": "markdown",
   "source": "Ahora realizamos la búsqueda con MinMax",
   "id": "b2d406978a76f5a7"
  },
  {
   "metadata": {
    "ExecuteTime": {
     "end_time": "2024-05-09T18:37:45.178032Z",
     "start_time": "2024-05-09T18:36:33.768207Z"
    }
   },
   "cell_type": "code",
   "source": [
    "mejor_valor, mejor_movimiento = minimax(estado_inicial, 3, True)\n",
    "# Luego, puedes utilizar esta función para imprimir el sudoku con el mejor movimiento resaltado\n",
    "print(\"Mejor valor encontrado:\", mejor_valor)\n",
    "print(f\"Mejor movimiento: {mejor_movimiento.operador}\")\n",
    "imprimir_sudoku_con_resaltado(mejor_movimiento.SUDOKU, mejor_movimiento)"
   ],
   "id": "ff6a80b93bc65afb",
   "outputs": [
    {
     "name": "stdout",
     "output_type": "stream",
     "text": [
      "Mejor valor encontrado: -33\n",
      "Mejor movimiento: Poner en X=6 | Y=1 | num=7\n",
      "0 0 0 4 0 0 7 0 0 \n",
      "8 0 7 0 0 6 0 0 0 \n",
      "0 6 2 0 0 0 0 1 8 \n",
      "0 0 0 3 0 1 8 9 0 \n",
      "3 0 0 6 0 0 0 4 7 \n",
      "0 2 0 0 0 8 0 0 0 \n",
      "9 \u001B[31m7\u001B[0m 8 0 6 3 1 5 4 \n",
      "2 4 3 0 7 5 6 8 0 \n",
      "0 1 0 0 9 4 0 0 0 \n"
     ]
    }
   ],
   "execution_count": 13
  }
 ],
 "metadata": {
  "kernelspec": {
   "display_name": "Python 3",
   "language": "python",
   "name": "python3"
  },
  "language_info": {
   "codemirror_mode": {
    "name": "ipython",
    "version": 2
   },
   "file_extension": ".py",
   "mimetype": "text/x-python",
   "name": "python",
   "nbconvert_exporter": "python",
   "pygments_lexer": "ipython2",
   "version": "2.7.6"
  }
 },
 "nbformat": 4,
 "nbformat_minor": 5
}
