{
 "cells": [
  {
   "metadata": {},
   "cell_type": "markdown",
   "source": [
    "### Sudoku Mínimo\n",
    "np.array([\n",
    "        [0, 0, 0, 8, 0, 1, 0, 0, 0],\n",
    "        [0, 0, 0, 0, 0, 0, 4, 3, 0],\n",
    "        [5, 0, 0, 0, 0, 0, 0, 0, 0],\n",
    "        [0, 0, 0, 0, 7, 0, 8, 0, 0],\n",
    "        [0, 0, 0, 0, 0, 0, 1, 0, 0],\n",
    "        [0, 2, 0, 0, 3, 0, 0, 0, 0],\n",
    "        [6, 0, 0, 0, 0, 0, 0, 7, 5],\n",
    "        [0, 0, 3, 4, 0, 0, 0, 0, 0],\n",
    "        [0, 0, 0, 2, 0, 0, 6, 0, 0]\n",
    "    ], dtype=int)\n",
    "### Sudoku Experto - \n",
    "np.array([\n",
    "        [0, 0, 0, 0, 5, 0, 0, 4, 9],\n",
    "        [4, 0, 0, 0, 0, 6, 0, 0, 1],\n",
    "        [0, 0, 1, 0, 0, 3, 0, 5, 0],\n",
    "        [0, 0, 0, 0, 0, 8, 4, 0, 0],\n",
    "        [0, 0, 7, 0, 4, 0, 0, 0, 0],\n",
    "        [0, 2, 0, 1, 9, 0, 0, 8, 0],\n",
    "        [0, 0, 9, 0, 0, 0, 0, 3, 0],\n",
    "        [6, 0, 0, 0, 3, 4, 0, 0, 0],\n",
    "        [3, 0, 0, 0, 0, 0, 7, 0, 0]\n",
    "    ], dtype=int)\n",
    "### Sudoku Intermedio\n",
    "np.array([\n",
    "        [9, 2, 8, 0, 7, 0, 5, 0, 0],\n",
    "        [0, 0, 0, 0, 0, 2, 3, 0, 0],\n",
    "        [0, 6, 0, 0, 0, 0, 0, 2, 9],\n",
    "        [0, 0, 7, 0, 9, 6, 0, 3, 0],\n",
    "        [0, 0, 0, 0, 1, 8, 0, 4, 0],\n",
    "        [2, 0, 0, 0, 0, 3, 0, 0, 6],\n",
    "        [6, 7, 0, 0, 0, 1, 0, 0, 0],\n",
    "        [0, 4, 0, 0, 2, 7, 0, 0, 0],\n",
    "        [8, 0, 1, 0, 4, 0, 2, 0, 0]\n",
    "    ], dtype=int)\n",
    "### Sudoku Facil\n",
    "np.array([\n",
    "        [0, 0, 0, 4, 0, 0, 7, 0, 0],\n",
    "        [8, 0, 7, 0, 0, 6, 0, 0, 0],\n",
    "        [0, 6, 2, 0, 0, 0, 0, 1, 8],\n",
    "        [0, 0, 0, 3, 0, 1, 8, 9, 0],\n",
    "        [3, 0, 0, 6, 0, 0, 0, 4, 7],\n",
    "        [0, 2, 0, 0, 0, 8, 0, 0, 0],\n",
    "        [9, 0, 8, 0, 6, 3, 1, 5, 4],\n",
    "        [2, 4, 3, 0, 7, 5, 6, 8, 0],\n",
    "        [0, 1, 0, 0, 9, 4, 0, 0, 0]\n",
    "    ], dtype=int)\n"
   ],
   "id": "deb98c2cb3aef1da"
  },
  {
   "metadata": {
    "ExecuteTime": {
     "end_time": "2024-05-06T21:14:08.756394Z",
     "start_time": "2024-05-06T21:14:08.670396Z"
    }
   },
   "cell_type": "code",
   "source": [
    "import numpy as np\n",
    "from SudokuLibrary.sudoku import Sudoku\n",
    "from SudokuLibrary.sudokuRestrictions import Sudoku as SudokuRestricted\n",
    "from SudokuLibrary.sudokuSolver import SudokuSolver\n",
    "from SudokuLibrary.sudokuSolver import show_sudoku\n",
    "sudoku = Sudoku(np.array([\n",
    "        [9, 2, 8, 0, 7, 0, 5, 0, 0],\n",
    "        [0, 0, 0, 0, 0, 2, 3, 0, 0],\n",
    "        [0, 6, 0, 0, 0, 0, 0, 2, 9],\n",
    "        [0, 0, 7, 0, 9, 6, 0, 3, 0],\n",
    "        [0, 0, 0, 0, 1, 8, 0, 4, 0],\n",
    "        [2, 0, 0, 0, 0, 3, 0, 0, 6],\n",
    "        [6, 7, 0, 0, 0, 1, 0, 0, 0],\n",
    "        [0, 4, 0, 0, 2, 7, 0, 0, 0],\n",
    "        [8, 0, 1, 0, 4, 0, 2, 0, 0]\n",
    "    ], dtype=int),\n",
    "        debug=True)\n",
    "solver = SudokuSolver(sudoku)"
   ],
   "id": "c52a987613e4c2d5",
   "outputs": [],
   "execution_count": 1
  },
  {
   "cell_type": "code",
   "source": "# show_sudoku(solver.sudoku)",
   "metadata": {
    "collapsed": false,
    "ExecuteTime": {
     "end_time": "2024-05-06T21:14:08.772395Z",
     "start_time": "2024-05-06T21:14:08.757396Z"
    }
   },
   "id": "f7c7c8f3853eb8bc",
   "outputs": [],
   "execution_count": 2
  },
  {
   "metadata": {
    "ExecuteTime": {
     "end_time": "2024-05-06T21:14:08.788395Z",
     "start_time": "2024-05-06T21:14:08.773400Z"
    }
   },
   "cell_type": "code",
   "source": [
    "sudaka = Sudoku(np.array([\n",
    "        [9, 2, 8, 0, 7, 0, 5, 0, 0],\n",
    "        [0, 0, 0, 0, 0, 2, 3, 0, 0],\n",
    "        [0, 6, 0, 0, 0, 0, 0, 2, 9],\n",
    "        [0, 0, 7, 0, 9, 6, 0, 3, 0],\n",
    "        [0, 0, 0, 0, 1, 8, 0, 4, 0],\n",
    "        [2, 0, 0, 0, 0, 3, 0, 0, 6],\n",
    "        [6, 7, 0, 0, 0, 1, 0, 0, 0],\n",
    "        [0, 4, 0, 0, 2, 7, 0, 0, 0],\n",
    "        [8, 0, 1, 0, 4, 0, 2, 0, 0]\n",
    "    ], dtype=int),\n",
    "        debug=True)\n",
    "sudaka.board_valids = np.zeros((9, 9, 9), dtype=bool)"
   ],
   "id": "a53bb4b6e6fe6576",
   "outputs": [],
   "execution_count": 3
  },
  {
   "metadata": {
    "ExecuteTime": {
     "end_time": "2024-05-06T21:14:08.804396Z",
     "start_time": "2024-05-06T21:14:08.790396Z"
    }
   },
   "cell_type": "code",
   "source": [
    "from itertools import permutations, combinations, product\n",
    "\n",
    "board = sudoku.board\n",
    "board_valids = sudaka.board_valids\n",
    "for irow in range(board_valids.shape[0]):\n",
    "    for icol in range(board_valids.shape[1]):\n",
    "        if board[irow, icol] != 0:\n",
    "            board_valids[irow][icol][board[irow][icol] - 1] = True\n",
    "\n",
    "for irow in range(board_valids.shape[0]):\n",
    "    for icol in range(board_valids.shape[1]):\n",
    "        if np.sum(board_valids[irow, icol]) != 1:\n",
    "            coords_colision = list(sudaka.get_row_col_cuadrant_coords(irow, icol))\n",
    "            x, y = zip(*coords_colision)\n",
    "            valids_per_num_in_colisions = np.sum(board_valids[x, y], axis=0)\n",
    "            \n",
    "            board_valids[np.argwhere(valids_per_num_in_colisions == 0).flatten()] = True\n",
    "a = list(sudoku.get_row_col_cuadrant_coords(1, 0))\n",
    "x, y = zip(*a)\n",
    "np.sum(board_valids[x, y], axis=0)\n",
    "# board_valids[x, y]"
   ],
   "id": "423dfb80b7cd75dc",
   "outputs": [
    {
     "data": {
      "text/plain": [
       "array([8, 9, 9, 8, 8, 9, 8, 9, 8])"
      ]
     },
     "execution_count": 4,
     "metadata": {},
     "output_type": "execute_result"
    }
   ],
   "execution_count": 4
  },
  {
   "metadata": {
    "ExecuteTime": {
     "end_time": "2024-05-06T21:14:08.820395Z",
     "start_time": "2024-05-06T21:14:08.805395Z"
    }
   },
   "cell_type": "code",
   "source": [
    "prueba = np.zeros(9, dtype=bool)\n",
    "prueba[np.argwhere(np.sum(board_valids[x, y], axis=0) == 0).flatten()] = True\n",
    "prueba"
   ],
   "id": "6c1f19dca7f9b104",
   "outputs": [
    {
     "data": {
      "text/plain": [
       "array([False, False, False, False, False, False, False, False, False])"
      ]
     },
     "execution_count": 5,
     "metadata": {},
     "output_type": "execute_result"
    }
   ],
   "execution_count": 5
  },
  {
   "metadata": {
    "ExecuteTime": {
     "end_time": "2024-05-06T21:14:08.835395Z",
     "start_time": "2024-05-06T21:14:08.821396Z"
    }
   },
   "cell_type": "code",
   "source": [
    "sudaka = SudokuRestricted(np.array([\n",
    "        [9, 2, 8, 0, 7, 0, 5, 0, 0],\n",
    "        [0, 0, 0, 0, 0, 2, 3, 0, 0],\n",
    "        [0, 6, 0, 0, 0, 0, 0, 2, 9],\n",
    "        [0, 0, 7, 0, 9, 6, 0, 3, 0],\n",
    "        [0, 0, 0, 0, 1, 8, 0, 4, 0],\n",
    "        [2, 0, 0, 0, 0, 3, 0, 0, 6],\n",
    "        [6, 7, 0, 0, 0, 1, 0, 0, 0],\n",
    "        [0, 4, 0, 0, 2, 7, 0, 0, 0],\n",
    "        [8, 0, 1, 0, 4, 0, 2, 0, 0]\n",
    "    ], dtype=int))\n",
    "sudaka.valids"
   ],
   "id": "3a383f60fc21fcab",
   "outputs": [
    {
     "data": {
      "text/plain": [
       "array([[False, False, False, False, False, False, False, False,  True],\n",
       "       [False,  True, False, False, False, False, False, False, False],\n",
       "       [False, False, False, False, False, False, False,  True, False],\n",
       "       [ True,  True,  True,  True,  True,  True,  True,  True,  True],\n",
       "       [False, False, False, False, False, False,  True, False, False],\n",
       "       [ True,  True,  True,  True,  True,  True,  True,  True,  True],\n",
       "       [False, False, False, False,  True, False, False, False, False],\n",
       "       [ True,  True,  True,  True,  True,  True,  True,  True,  True],\n",
       "       [ True,  True,  True,  True,  True,  True,  True,  True,  True],\n",
       "       [ True,  True,  True,  True,  True,  True,  True,  True,  True],\n",
       "       [ True,  True,  True,  True,  True,  True,  True,  True,  True],\n",
       "       [ True,  True,  True,  True,  True,  True,  True,  True,  True],\n",
       "       [ True,  True,  True,  True,  True,  True,  True,  True,  True],\n",
       "       [ True,  True,  True,  True,  True,  True,  True,  True,  True],\n",
       "       [False,  True, False, False, False, False, False, False, False],\n",
       "       [False, False,  True, False, False, False, False, False, False],\n",
       "       [ True,  True,  True,  True,  True,  True,  True,  True,  True],\n",
       "       [ True,  True,  True,  True,  True,  True,  True,  True,  True],\n",
       "       [ True,  True,  True,  True,  True,  True,  True,  True,  True],\n",
       "       [False, False, False, False, False,  True, False, False, False],\n",
       "       [ True,  True,  True,  True,  True,  True,  True,  True,  True],\n",
       "       [ True,  True,  True,  True,  True,  True,  True,  True,  True],\n",
       "       [ True,  True,  True,  True,  True,  True,  True,  True,  True],\n",
       "       [ True,  True,  True,  True,  True,  True,  True,  True,  True],\n",
       "       [ True,  True,  True,  True,  True,  True,  True,  True,  True],\n",
       "       [False,  True, False, False, False, False, False, False, False],\n",
       "       [False, False, False, False, False, False, False, False,  True],\n",
       "       [ True,  True,  True,  True,  True,  True,  True,  True,  True],\n",
       "       [ True,  True,  True,  True,  True,  True,  True,  True,  True],\n",
       "       [False, False, False, False, False, False,  True, False, False],\n",
       "       [ True,  True,  True,  True,  True,  True,  True,  True,  True],\n",
       "       [False, False, False, False, False, False, False, False,  True],\n",
       "       [False, False, False, False, False,  True, False, False, False],\n",
       "       [ True,  True,  True,  True,  True,  True,  True,  True,  True],\n",
       "       [False, False,  True, False, False, False, False, False, False],\n",
       "       [ True,  True,  True,  True,  True,  True,  True,  True,  True],\n",
       "       [ True,  True,  True,  True,  True,  True,  True,  True,  True],\n",
       "       [ True,  True,  True,  True,  True,  True,  True,  True,  True],\n",
       "       [ True,  True,  True,  True,  True,  True,  True,  True,  True],\n",
       "       [ True,  True,  True,  True,  True,  True,  True,  True,  True],\n",
       "       [ True, False, False, False, False, False, False, False, False],\n",
       "       [False, False, False, False, False, False, False,  True, False],\n",
       "       [ True,  True,  True,  True,  True,  True,  True,  True,  True],\n",
       "       [False, False, False,  True, False, False, False, False, False],\n",
       "       [ True,  True,  True,  True,  True,  True,  True,  True,  True],\n",
       "       [False,  True, False, False, False, False, False, False, False],\n",
       "       [ True,  True,  True,  True,  True,  True,  True,  True,  True],\n",
       "       [ True,  True,  True,  True,  True,  True,  True,  True,  True],\n",
       "       [ True,  True,  True,  True,  True,  True,  True,  True,  True],\n",
       "       [ True,  True,  True,  True,  True,  True,  True,  True,  True],\n",
       "       [False, False,  True, False, False, False, False, False, False],\n",
       "       [ True,  True,  True,  True,  True,  True,  True,  True,  True],\n",
       "       [ True,  True,  True,  True,  True,  True,  True,  True,  True],\n",
       "       [False, False, False, False, False,  True, False, False, False],\n",
       "       [False, False, False, False, False,  True, False, False, False],\n",
       "       [False, False, False, False, False, False,  True, False, False],\n",
       "       [ True,  True,  True,  True,  True,  True,  True,  True,  True],\n",
       "       [ True,  True,  True,  True,  True,  True,  True,  True,  True],\n",
       "       [ True,  True,  True,  True,  True,  True,  True,  True,  True],\n",
       "       [ True, False, False, False, False, False, False, False, False],\n",
       "       [ True,  True,  True,  True,  True,  True,  True,  True,  True],\n",
       "       [ True,  True,  True,  True,  True,  True,  True,  True,  True],\n",
       "       [ True,  True,  True,  True,  True,  True,  True,  True,  True],\n",
       "       [ True,  True,  True,  True,  True,  True,  True,  True,  True],\n",
       "       [False, False, False,  True, False, False, False, False, False],\n",
       "       [ True,  True,  True,  True,  True,  True,  True,  True,  True],\n",
       "       [ True,  True,  True,  True,  True,  True,  True,  True,  True],\n",
       "       [False,  True, False, False, False, False, False, False, False],\n",
       "       [False, False, False, False, False, False,  True, False, False],\n",
       "       [ True,  True,  True,  True,  True,  True,  True,  True,  True],\n",
       "       [ True,  True,  True,  True,  True,  True,  True,  True,  True],\n",
       "       [ True,  True,  True,  True,  True,  True,  True,  True,  True],\n",
       "       [False, False, False, False, False, False, False,  True, False],\n",
       "       [ True,  True,  True,  True,  True,  True,  True,  True,  True],\n",
       "       [ True, False, False, False, False, False, False, False, False],\n",
       "       [ True,  True,  True,  True,  True,  True,  True,  True,  True],\n",
       "       [False, False, False,  True, False, False, False, False, False],\n",
       "       [ True,  True,  True,  True,  True,  True,  True,  True,  True],\n",
       "       [False,  True, False, False, False, False, False, False, False],\n",
       "       [ True,  True,  True,  True,  True,  True,  True,  True,  True],\n",
       "       [ True,  True,  True,  True,  True,  True,  True,  True,  True]])"
      ]
     },
     "execution_count": 6,
     "metadata": {},
     "output_type": "execute_result"
    }
   ],
   "execution_count": 6
  },
  {
   "metadata": {
    "ExecuteTime": {
     "end_time": "2024-05-06T21:14:08.851395Z",
     "start_time": "2024-05-06T21:14:08.836398Z"
    }
   },
   "cell_type": "code",
   "source": "sudaka.basic_restrictions()",
   "id": "709ff1697bd5be5",
   "outputs": [],
   "execution_count": 7
  },
  {
   "metadata": {
    "ExecuteTime": {
     "end_time": "2024-05-06T21:14:09.148396Z",
     "start_time": "2024-05-06T21:14:08.852397Z"
    }
   },
   "cell_type": "code",
   "source": [
    "for elem in xyz:\n",
    "    if np.sum(elem[3]) != 1:\n",
    "        for again in xyz:\n",
    "            if elem[:3] != again[:3] and (elem[0] == again[0] or elem[1] == again[1] or elem[2] == again[2]):\n",
    "                elem[3] = np.logical_and(elem[3], np.logical_not(again[3]))\n",
    "                if np.sum(elem[3]) == 1:\n",
    "                    print(elem[:3], np.argwhere(elem[3]).flatten())"
   ],
   "id": "a3d529eaebddcabb",
   "outputs": [
    {
     "ename": "NameError",
     "evalue": "name 'xyz' is not defined",
     "output_type": "error",
     "traceback": [
      "\u001B[1;31m---------------------------------------------------------------------------\u001B[0m",
      "\u001B[1;31mNameError\u001B[0m                                 Traceback (most recent call last)",
      "Cell \u001B[1;32mIn[8], line 1\u001B[0m\n\u001B[1;32m----> 1\u001B[0m \u001B[38;5;28;01mfor\u001B[39;00m elem \u001B[38;5;129;01min\u001B[39;00m \u001B[43mxyz\u001B[49m:\n\u001B[0;32m      2\u001B[0m     \u001B[38;5;28;01mif\u001B[39;00m np\u001B[38;5;241m.\u001B[39msum(elem[\u001B[38;5;241m3\u001B[39m]) \u001B[38;5;241m!=\u001B[39m \u001B[38;5;241m1\u001B[39m:\n\u001B[0;32m      3\u001B[0m         \u001B[38;5;28;01mfor\u001B[39;00m again \u001B[38;5;129;01min\u001B[39;00m xyz:\n",
      "\u001B[1;31mNameError\u001B[0m: name 'xyz' is not defined"
     ]
    }
   ],
   "execution_count": 8
  },
  {
   "metadata": {
    "ExecuteTime": {
     "end_time": "2024-05-06T21:14:09.149397Z",
     "start_time": "2024-05-06T21:14:09.149397Z"
    }
   },
   "cell_type": "code",
   "source": [
    "ver = np.zeros((9, 9), dtype=int)\n",
    "for elem in xyz:\n",
    "    if np.sum(elem[3]) == 1:\n",
    "        ver[elem[0], elem[1]] = np.argwhere(elem[3]).flatten()[0] + 1\n",
    "ver"
   ],
   "id": "e56c59e1c8c87a18",
   "outputs": [],
   "execution_count": null
  },
  {
   "cell_type": "code",
   "source": "show_sudoku(solver.solve_profundidad(True))",
   "metadata": {
    "collapsed": false
   },
   "id": "de4f2ed68c334c60",
   "outputs": [],
   "execution_count": null
  },
  {
   "metadata": {},
   "cell_type": "code",
   "source": "show_sudoku(solver.solve_restricciones(True))",
   "id": "f06e154602d58d7e",
   "outputs": [],
   "execution_count": null
  },
  {
   "cell_type": "code",
   "source": "show_sudoku(solver.solve_anchura(True))",
   "metadata": {
    "collapsed": false
   },
   "id": "ea5c81e676cdc04f",
   "outputs": [],
   "execution_count": null
  },
  {
   "cell_type": "code",
   "source": "show_sudoku(solver.solve_coste_uniforme(True))",
   "metadata": {
    "collapsed": false
   },
   "id": "c5f0f4b7e822e438",
   "outputs": [],
   "execution_count": null
  },
  {
   "cell_type": "code",
   "source": "show_sudoku(solver.solve_avara(True))",
   "metadata": {
    "collapsed": false
   },
   "id": "27909a429ac72cd5",
   "outputs": [],
   "execution_count": null
  },
  {
   "cell_type": "code",
   "source": "show_sudoku(solver.solve_a_estrella(True))",
   "metadata": {
    "collapsed": false
   },
   "id": "fe5c9cd597da29a",
   "outputs": [],
   "execution_count": null
  }
 ],
 "metadata": {
  "kernelspec": {
   "display_name": "Python 3",
   "language": "python",
   "name": "python3"
  },
  "language_info": {
   "codemirror_mode": {
    "name": "ipython",
    "version": 2
   },
   "file_extension": ".py",
   "mimetype": "text/x-python",
   "name": "python",
   "nbconvert_exporter": "python",
   "pygments_lexer": "ipython2",
   "version": "2.7.6"
  }
 },
 "nbformat": 4,
 "nbformat_minor": 5
}
