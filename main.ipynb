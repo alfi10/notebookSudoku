{
 "cells": [
  {
   "cell_type": "code",
   "outputs": [],
   "source": [
    "import numpy as np\n",
    "from SudokuLibrary.sudoku import Sudoku\n",
    "from SudokuLibrary.sudokuSolver import SudokuSolver\n",
    "from SudokuLibrary.sudokuSolver import show_sudoku"
   ],
   "metadata": {
    "collapsed": false,
    "ExecuteTime": {
     "end_time": "2024-03-29T17:22:55.201105Z",
     "start_time": "2024-03-29T17:22:55.128106Z"
    }
   },
   "id": "96a4faa7fa53ddba",
   "execution_count": 1
  },
  {
   "cell_type": "code",
   "outputs": [],
   "source": [
    "sudoku = Sudoku(debug=True)\n",
    "solver = SudokuSolver(sudoku)"
   ],
   "metadata": {
    "collapsed": false,
    "ExecuteTime": {
     "end_time": "2024-03-29T17:22:55.217105Z",
     "start_time": "2024-03-29T17:22:55.202104Z"
    }
   },
   "id": "c52a987613e4c2d5",
   "execution_count": 2
  },
  {
   "cell_type": "code",
   "outputs": [
    {
     "name": "stdout",
     "output_type": "stream",
     "text": [
      "-------------------------------\n",
      "| 0  0  0 | 4  0  0 | 7  0  0 |\n",
      "| 8  0  7 | 0  0  6 | 0  0  0 |\n",
      "| 0  6  2 | 0  0  0 | 0  1  8 |\n",
      "-------------------------------\n",
      "| 0  0  0 | 3  0  1 | 8  9  0 |\n",
      "| 3  0  0 | 6  0  0 | 0  4  7 |\n",
      "| 0  2  0 | 0  0  8 | 0  0  0 |\n",
      "-------------------------------\n",
      "| 9  0  8 | 0  6  3 | 1  5  4 |\n",
      "| 2  4  3 | 0  7  5 | 6  8  0 |\n",
      "| 0  1  0 | 0  9  4 | 0  0  0 |\n",
      "-------------------------------\n"
     ]
    }
   ],
   "source": [
    "show_sudoku(solver.sudoku)"
   ],
   "metadata": {
    "collapsed": false,
    "ExecuteTime": {
     "end_time": "2024-03-29T17:22:55.232105Z",
     "start_time": "2024-03-29T17:22:55.218106Z"
    }
   },
   "id": "f7c7c8f3853eb8bc",
   "execution_count": 3
  },
  {
   "cell_type": "code",
   "outputs": [
    {
     "name": "stdout",
     "output_type": "stream",
     "text": [
      "-------------------------------\n",
      "| 1  9  5 | 4  8  2 | 7  6  3 |\n",
      "| 8  3  7 | 9  1  6 | 4  2  5 |\n",
      "| 4  6  2 | 5  3  7 | 9  1  8 |\n",
      "-------------------------------\n",
      "| 7  5  4 | 3  2  1 | 8  9  6 |\n",
      "| 3  8  1 | 6  5  9 | 2  4  7 |\n",
      "| 6  2  9 | 7  4  8 | 5  3  1 |\n",
      "-------------------------------\n",
      "| 9  7  8 | 2  6  3 | 1  5  4 |\n",
      "| 2  4  3 | 1  7  5 | 6  8  9 |\n",
      "| 5  1  6 | 8  9  4 | 3  7  2 |\n",
      "-------------------------------\n"
     ]
    }
   ],
   "source": [
    "show_sudoku(solver.solve_profundidad())"
   ],
   "metadata": {
    "collapsed": false,
    "ExecuteTime": {
     "end_time": "2024-03-29T17:22:55.343133Z",
     "start_time": "2024-03-29T17:22:55.233107Z"
    }
   },
   "id": "de4f2ed68c334c60",
   "execution_count": 4
  },
  {
   "cell_type": "code",
   "outputs": [
    {
     "name": "stdout",
     "output_type": "stream",
     "text": [
      "-------------------------------\n",
      "| 1  9  5 | 4  8  2 | 7  6  3 |\n",
      "| 8  3  7 | 9  1  6 | 4  2  5 |\n",
      "| 4  6  2 | 5  3  7 | 9  1  8 |\n",
      "-------------------------------\n",
      "| 7  5  4 | 3  2  1 | 8  9  6 |\n",
      "| 3  8  1 | 6  5  9 | 2  4  7 |\n",
      "| 6  2  9 | 7  4  8 | 5  3  1 |\n",
      "-------------------------------\n",
      "| 9  7  8 | 2  6  3 | 1  5  4 |\n",
      "| 2  4  3 | 1  7  5 | 6  8  9 |\n",
      "| 5  1  6 | 8  9  4 | 3  7  2 |\n",
      "-------------------------------\n"
     ]
    }
   ],
   "source": [
    "show_sudoku(solver.solve_anchura())"
   ],
   "metadata": {
    "collapsed": false,
    "ExecuteTime": {
     "end_time": "2024-03-29T17:22:55.643106Z",
     "start_time": "2024-03-29T17:22:55.344123Z"
    }
   },
   "id": "ea5c81e676cdc04f",
   "execution_count": 5
  },
  {
   "cell_type": "code",
   "outputs": [
    {
     "name": "stdout",
     "output_type": "stream",
     "text": [
      "-------------------------------\n",
      "| 1  9  5 | 4  8  2 | 7  6  3 |\n",
      "| 8  3  7 | 9  1  6 | 4  2  5 |\n",
      "| 4  6  2 | 5  3  7 | 9  1  8 |\n",
      "-------------------------------\n",
      "| 7  5  4 | 3  2  1 | 8  9  6 |\n",
      "| 3  8  1 | 6  5  9 | 2  4  7 |\n",
      "| 6  2  9 | 7  4  8 | 5  3  1 |\n",
      "-------------------------------\n",
      "| 9  7  8 | 2  6  3 | 1  5  4 |\n",
      "| 2  4  3 | 1  7  5 | 6  8  9 |\n",
      "| 5  1  6 | 8  9  4 | 3  7  2 |\n",
      "-------------------------------\n"
     ]
    }
   ],
   "source": [
    "show_sudoku(solver.solve_coste_uniforme())"
   ],
   "metadata": {
    "collapsed": false,
    "ExecuteTime": {
     "end_time": "2024-03-29T17:22:56.212781Z",
     "start_time": "2024-03-29T17:22:55.644105Z"
    }
   },
   "id": "c5f0f4b7e822e438",
   "execution_count": 6
  },
  {
   "cell_type": "code",
   "outputs": [
    {
     "name": "stdout",
     "output_type": "stream",
     "text": [
      "-------------------------------\n",
      "| 1  9  5 | 4  8  2 | 7  6  3 |\n",
      "| 8  3  7 | 9  1  6 | 4  2  5 |\n",
      "| 4  6  2 | 5  3  7 | 9  1  8 |\n",
      "-------------------------------\n",
      "| 7  5  4 | 3  2  1 | 8  9  6 |\n",
      "| 3  8  1 | 6  5  9 | 2  4  7 |\n",
      "| 6  2  9 | 7  4  8 | 5  3  1 |\n",
      "-------------------------------\n",
      "| 9  7  8 | 2  6  3 | 1  5  4 |\n",
      "| 2  4  3 | 1  7  5 | 6  8  9 |\n",
      "| 5  1  6 | 8  9  4 | 3  7  2 |\n",
      "-------------------------------\n"
     ]
    }
   ],
   "source": [
    "show_sudoku(solver.solve_avara())"
   ],
   "metadata": {
    "collapsed": false,
    "ExecuteTime": {
     "end_time": "2024-03-29T17:22:56.731775Z",
     "start_time": "2024-03-29T17:22:56.213781Z"
    }
   },
   "id": "27909a429ac72cd5",
   "execution_count": 7
  },
  {
   "cell_type": "code",
   "outputs": [
    {
     "name": "stdout",
     "output_type": "stream",
     "text": [
      "-------------------------------\n",
      "| 1  9  5 | 4  8  2 | 7  6  3 |\n",
      "| 8  3  7 | 9  1  6 | 4  2  5 |\n",
      "| 4  6  2 | 5  3  7 | 9  1  8 |\n",
      "-------------------------------\n",
      "| 7  5  4 | 3  2  1 | 8  9  6 |\n",
      "| 3  8  1 | 6  5  9 | 2  4  7 |\n",
      "| 6  2  9 | 7  4  8 | 5  3  1 |\n",
      "-------------------------------\n",
      "| 9  7  8 | 2  6  3 | 1  5  4 |\n",
      "| 2  4  3 | 1  7  5 | 6  8  9 |\n",
      "| 5  1  6 | 8  9  4 | 3  7  2 |\n",
      "-------------------------------\n"
     ]
    }
   ],
   "source": [
    "show_sudoku(solver.solve_a_estrella())"
   ],
   "metadata": {
    "collapsed": false,
    "ExecuteTime": {
     "end_time": "2024-03-29T17:22:57.277775Z",
     "start_time": "2024-03-29T17:22:56.732757Z"
    }
   },
   "id": "fe5c9cd597da29a",
   "execution_count": 8
  }
 ],
 "metadata": {
  "kernelspec": {
   "display_name": "Python 3",
   "language": "python",
   "name": "python3"
  },
  "language_info": {
   "codemirror_mode": {
    "name": "ipython",
    "version": 2
   },
   "file_extension": ".py",
   "mimetype": "text/x-python",
   "name": "python",
   "nbconvert_exporter": "python",
   "pygments_lexer": "ipython2",
   "version": "2.7.6"
  }
 },
 "nbformat": 4,
 "nbformat_minor": 5
}
